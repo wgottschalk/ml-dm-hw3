{
 "cells": [
  {
   "cell_type": "markdown",
   "metadata": {},
   "source": [
    "# Homework 3\n",
    "#### Team: Jair Aguirre and William Gottschalk, Friday Section"
   ]
  },
  {
   "cell_type": "code",
   "execution_count": 6,
   "metadata": {
    "collapsed": false
   },
   "outputs": [],
   "source": [
    "import pandas as pd\n",
    "from sklearn.preprocessing import Imputer\n",
    "from sklearn.multiclass import OneVsRestClassifier\n",
    "from sklearn.ensemble import RandomForestClassifier\n",
    "from sklearn.model_selection import GridSearchCV\n",
    "from sklearn.model_selection import train_test_split\n",
    "from sklearn.metrics import roc_auc_score\n",
    "from sklearn.preprocessing import StandardScaler\n",
    "from sklearn.preprocessing import LabelBinarizer\n",
    "from imblearn.over_sampling import SMOTE\n",
    "import matplotlib.pyplot as plt\n",
    "%matplotlib inline"
   ]
  },
  {
   "cell_type": "code",
   "execution_count": 7,
   "metadata": {
    "collapsed": false
   },
   "outputs": [
    {
     "name": "stderr",
     "output_type": "stream",
     "text": [
      "/Users/willg/anaconda/lib/python3.5/site-packages/sklearn/utils/validation.py:526: DataConversionWarning: A column-vector y was passed when a 1d array was expected. Please change the shape of y to (n_samples, ), for example using ravel().\n",
      "  y = column_or_1d(y, warn=True)\n"
     ]
    },
    {
     "name": "stdout",
     "output_type": "stream",
     "text": [
      "Counter({1: 5667, 4: 5667, 3: 5217, 2: 3893}) Counter({1: 5667, 3: 5217, 2: 3893, 4: 2601})\n",
      "[[0 0 1 0]\n",
      " [0 0 1 0]\n",
      " [0 0 1 0]\n",
      " ..., \n",
      " [0 0 0 1]\n",
      " [0 0 0 1]\n",
      " [0 0 0 1]]\n"
     ]
    }
   ],
   "source": [
    "imp = Imputer(missing_values='NaN', strategy='median', axis=0)\n",
    "lb = LabelBinarizer()\n",
    "X = imp.fit_transform(pd.read_csv('trainingData.txt', sep='\\t', header=None))\n",
    "from collections import Counter\n",
    "\n",
    "Y = pd.read_csv('trainingTruth.txt', sep='\\t', header=None)\n",
    "sm = SMOTE(kind='regular')\n",
    "X_resampled, Y_resampled = sm.fit_sample(X, Y)\n",
    "r, _ = Y.values.shape\n",
    "\n",
    "print(\n",
    "    Counter(Y_resampled), \n",
    "    Counter(Y.values.reshape(r, ))\n",
    ")\n",
    "\n",
    "Y_resampled = lb.fit_transform(Y_resampled)\n",
    "print(Y_resampled)"
   ]
  },
  {
   "cell_type": "code",
   "execution_count": 8,
   "metadata": {
    "collapsed": false
   },
   "outputs": [
    {
     "name": "stdout",
     "output_type": "stream",
     "text": [
      "(10222, 334) (10222, 4)\n",
      "[[-2.69645963 -0.50278739 -1.02432391 ...,  1.24144138  1.37329155\n",
      "  -1.36227482]\n",
      " [ 0.31885796  0.92483342  1.47501942 ..., -0.34250057  0.41603692\n",
      "   2.49825508]\n",
      " [ 0.64052788  0.31117727  0.05487849 ...,  2.2434861   0.8015509\n",
      "  -0.60216839]]\n",
      "[[0 1 0 0]\n",
      " [1 0 0 0]\n",
      " [1 0 0 0]]\n"
     ]
    }
   ],
   "source": [
    "X_train, X_test, y_train, y_test = train_test_split(\n",
    "    StandardScaler().fit_transform(X_resampled) , Y_resampled, test_size=0.5, random_state=0\n",
    ")\n",
    "\n",
    "print(X_train.shape, y_train.shape)\n",
    "print(X_train[:3])\n",
    "print(y_train[:3])"
   ]
  },
  {
   "cell_type": "code",
   "execution_count": 9,
   "metadata": {
    "collapsed": false,
    "scrolled": false
   },
   "outputs": [],
   "source": [
    "# clf = RandomForestClassifier(n_estimators=30)\n",
    "# scores = cross_val_score(clf, X_train, y_train, scoring='f1', n_jobs=-1)"
   ]
  },
  {
   "cell_type": "code",
   "execution_count": 17,
   "metadata": {
    "collapsed": false
   },
   "outputs": [
    {
     "data": {
      "text/plain": [
       "GridSearchCV(cv=10, error_score='raise',\n",
       "       estimator=OneVsRestClassifier(estimator=RandomForestClassifier(bootstrap=True, class_weight=None, criterion='gini',\n",
       "            max_depth=None, max_features='auto', max_leaf_nodes=None,\n",
       "            min_impurity_split=1e-07, min_samples_leaf=1,\n",
       "            min_samples_split=2, min_weight_fraction_leaf=0.0,\n",
       "            n_estimators=10, n_jobs=-1, oob_score=False, random_state=None,\n",
       "            verbose=0, warm_start=False),\n",
       "          n_jobs=1),\n",
       "       fit_params={}, iid=True, n_jobs=1,\n",
       "       param_grid={'estimator__min_samples_split': [2, 10, 30], 'estimator__n_estimators': [100]},\n",
       "       pre_dispatch='2*n_jobs', refit=True, return_train_score=True,\n",
       "       scoring=None, verbose=0)"
      ]
     },
     "execution_count": 17,
     "metadata": {},
     "output_type": "execute_result"
    }
   ],
   "source": [
    "parameters = {\n",
    "    \"estimator__n_estimators\": [100],\n",
    "    \"estimator__min_samples_split\": [2, 10, 30]\n",
    "}\n",
    "\n",
    "tree = OneVsRestClassifier(RandomForestClassifier(n_jobs=-1))\n",
    "clf = GridSearchCV(tree, parameters, cv=10)\n",
    "\n",
    "clf.fit(X_train, y_train)"
   ]
  },
  {
   "cell_type": "code",
   "execution_count": 18,
   "metadata": {
    "collapsed": false
   },
   "outputs": [
    {
     "name": "stdout",
     "output_type": "stream",
     "text": [
      "0.223048327138\n",
      "{'estimator__min_samples_split': 2, 'estimator__n_estimators': 100}\n",
      "0.209352377226\n"
     ]
    }
   ],
   "source": [
    "# columns = pd.DataFrame(X).columns\n",
    "# sorted_features = sorted(zip(columns, clf.estimator.estimator.feature_importances_), key = lambda x: x[1], reverse=True)\n",
    "# print(sorted_features[:27])\n",
    "\n",
    "# fig_size = plt.rcParams[\"figure.figsize\"]\n",
    "# fig_size = (24, 12)\n",
    "\n",
    "# plt.hist(clf.estimator.estimator.feature_importances_, bins=20, align='right', orientation='horizontal', rwidth=5)\n",
    "\n",
    "print(clf.score(X_test, y_test))\n",
    "print(clf.best_params_)\n",
    "print(clf.best_score_)"
   ]
  },
  {
   "cell_type": "code",
   "execution_count": 163,
   "metadata": {
    "collapsed": false
   },
   "outputs": [
    {
     "data": {
      "text/plain": [
       "OneVsRestClassifier(estimator=RandomForestClassifier(bootstrap=True, class_weight=None, criterion='gini',\n",
       "            max_depth=None, max_features='auto', max_leaf_nodes=None,\n",
       "            min_impurity_split=1e-07, min_samples_leaf=1,\n",
       "            min_samples_split=2, min_weight_fraction_leaf=0.0,\n",
       "            n_estimators=100, n_jobs=1, oob_score=False, random_state=None,\n",
       "            verbose=0, warm_start=False),\n",
       "          n_jobs=1)"
      ]
     },
     "execution_count": 163,
     "metadata": {},
     "output_type": "execute_result"
    }
   ],
   "source": [
    "trees = OneVsRestClassifier(RandomForestClassifier(n_estimators=100))\n",
    "trees.fit(X_train, y_train)"
   ]
  },
  {
   "cell_type": "code",
   "execution_count": 168,
   "metadata": {
    "collapsed": false,
    "scrolled": false
   },
   "outputs": [
    {
     "name": "stdout",
     "output_type": "stream",
     "text": [
      "[114, 47, 325, 243, 215, 23, 303, 42, 163, 157, 279, 78, 87, 259, 146, 84, 91, 268, 194, 29, 139, 202, 298, 199, 244]\n",
      "[222, 197, 209, 125, 168, 28, 218, 167, 27, 89, 279, 249, 80, 206, 11, 170, 109, 61, 224, 73, 154, 144, 323, 232, 69]\n",
      "[78, 303, 325, 264, 108, 114, 153, 42, 142, 47, 216, 146, 1, 213, 163, 298, 15, 229, 294, 274, 98, 241, 244, 127, 305]\n",
      "[23, 167, 24, 243, 108, 333, 69, 6, 279, 212, 8, 162, 168, 197, 222, 247, 74, 117, 224, 96, 299, 119, 28, 211, 249]\n"
     ]
    },
    {
     "data": {
      "text/html": [
       "<div>\n",
       "<table border=\"1\" class=\"dataframe\">\n",
       "  <thead>\n",
       "    <tr style=\"text-align: right;\">\n",
       "      <th></th>\n",
       "      <th>0</th>\n",
       "      <th>1</th>\n",
       "      <th>2</th>\n",
       "      <th>3</th>\n",
       "    </tr>\n",
       "  </thead>\n",
       "  <tbody>\n",
       "    <tr>\n",
       "      <th>0</th>\n",
       "      <td>(114, 0.015966224112)</td>\n",
       "      <td>(222, 0.0128230447711)</td>\n",
       "      <td>(78, 0.0204454124396)</td>\n",
       "      <td>(23, 0.0120089165076)</td>\n",
       "    </tr>\n",
       "    <tr>\n",
       "      <th>1</th>\n",
       "      <td>(47, 0.0147081268511)</td>\n",
       "      <td>(197, 0.0122509892884)</td>\n",
       "      <td>(303, 0.0166003666736)</td>\n",
       "      <td>(167, 0.0103367795134)</td>\n",
       "    </tr>\n",
       "    <tr>\n",
       "      <th>2</th>\n",
       "      <td>(325, 0.0138667946906)</td>\n",
       "      <td>(209, 0.0100858811745)</td>\n",
       "      <td>(325, 0.0136341644823)</td>\n",
       "      <td>(24, 0.00764497409063)</td>\n",
       "    </tr>\n",
       "    <tr>\n",
       "      <th>3</th>\n",
       "      <td>(243, 0.0131515883515)</td>\n",
       "      <td>(125, 0.00977806328079)</td>\n",
       "      <td>(264, 0.0129327987654)</td>\n",
       "      <td>(243, 0.00758605781431)</td>\n",
       "    </tr>\n",
       "    <tr>\n",
       "      <th>4</th>\n",
       "      <td>(215, 0.0118347302151)</td>\n",
       "      <td>(168, 0.00922426977286)</td>\n",
       "      <td>(108, 0.0127265094412)</td>\n",
       "      <td>(108, 0.00701609632686)</td>\n",
       "    </tr>\n",
       "    <tr>\n",
       "      <th>5</th>\n",
       "      <td>(23, 0.0117863184286)</td>\n",
       "      <td>(28, 0.0079681929361)</td>\n",
       "      <td>(114, 0.0122006842831)</td>\n",
       "      <td>(333, 0.00700287301022)</td>\n",
       "    </tr>\n",
       "    <tr>\n",
       "      <th>6</th>\n",
       "      <td>(303, 0.0114860504419)</td>\n",
       "      <td>(218, 0.00792920037299)</td>\n",
       "      <td>(153, 0.0117281504015)</td>\n",
       "      <td>(69, 0.00690090772046)</td>\n",
       "    </tr>\n",
       "    <tr>\n",
       "      <th>7</th>\n",
       "      <td>(42, 0.0114695511235)</td>\n",
       "      <td>(167, 0.00702455741537)</td>\n",
       "      <td>(42, 0.0108859155115)</td>\n",
       "      <td>(6, 0.0064759173909)</td>\n",
       "    </tr>\n",
       "    <tr>\n",
       "      <th>8</th>\n",
       "      <td>(163, 0.0103101584103)</td>\n",
       "      <td>(27, 0.00671988261403)</td>\n",
       "      <td>(142, 0.00884147216672)</td>\n",
       "      <td>(279, 0.00616803768163)</td>\n",
       "    </tr>\n",
       "    <tr>\n",
       "      <th>9</th>\n",
       "      <td>(157, 0.010301732716)</td>\n",
       "      <td>(89, 0.00668069215395)</td>\n",
       "      <td>(47, 0.00869648458595)</td>\n",
       "      <td>(212, 0.00609326444668)</td>\n",
       "    </tr>\n",
       "  </tbody>\n",
       "</table>\n",
       "</div>"
      ],
      "text/plain": [
       "                        0                        1                        2  \\\n",
       "0   (114, 0.015966224112)   (222, 0.0128230447711)    (78, 0.0204454124396)   \n",
       "1   (47, 0.0147081268511)   (197, 0.0122509892884)   (303, 0.0166003666736)   \n",
       "2  (325, 0.0138667946906)   (209, 0.0100858811745)   (325, 0.0136341644823)   \n",
       "3  (243, 0.0131515883515)  (125, 0.00977806328079)   (264, 0.0129327987654)   \n",
       "4  (215, 0.0118347302151)  (168, 0.00922426977286)   (108, 0.0127265094412)   \n",
       "5   (23, 0.0117863184286)    (28, 0.0079681929361)   (114, 0.0122006842831)   \n",
       "6  (303, 0.0114860504419)  (218, 0.00792920037299)   (153, 0.0117281504015)   \n",
       "7   (42, 0.0114695511235)  (167, 0.00702455741537)    (42, 0.0108859155115)   \n",
       "8  (163, 0.0103101584103)   (27, 0.00671988261403)  (142, 0.00884147216672)   \n",
       "9   (157, 0.010301732716)   (89, 0.00668069215395)   (47, 0.00869648458595)   \n",
       "\n",
       "                         3  \n",
       "0    (23, 0.0120089165076)  \n",
       "1   (167, 0.0103367795134)  \n",
       "2   (24, 0.00764497409063)  \n",
       "3  (243, 0.00758605781431)  \n",
       "4  (108, 0.00701609632686)  \n",
       "5  (333, 0.00700287301022)  \n",
       "6   (69, 0.00690090772046)  \n",
       "7     (6, 0.0064759173909)  \n",
       "8  (279, 0.00616803768163)  \n",
       "9  (212, 0.00609326444668)  "
      ]
     },
     "execution_count": 168,
     "metadata": {},
     "output_type": "execute_result"
    }
   ],
   "source": [
    "# outcomes = pd.DataFrame({\"predicts\" : tree.predict(X_test)})\n",
    "# outcomes[\"actuals\"] = y_test\n",
    "# outcomes[\"diffs\"] = outcomes.predicts - outcomes.actuals == 0\n",
    "\n",
    "# num, _ = outcomes.shape\n",
    "# x = Counter(outcomes.diffs.values)\n",
    "# x[False] = x[False] / num\n",
    "# x[True] = x[True] / num\n",
    "# x\n",
    "best_features = []\n",
    "for tree in trees.estimators_:\n",
    "    sorted_features = sorted(\n",
    "        zip(columns, tree.feature_importances_),\n",
    "        key = lambda x: x[1], reverse=True)\n",
    "    best_features.append(sorted_features[:10])\n",
    "    array = []\n",
    "    for i, n in sorted_features[:25]:\n",
    "        array.append(i)\n",
    "    print(array)\n",
    "pd.DataFrame(best_features).T"
   ]
  },
  {
   "cell_type": "code",
   "execution_count": 109,
   "metadata": {
    "collapsed": false
   },
   "outputs": [
    {
     "data": {
      "text/plain": [
       "[(114, 0.016773333754614105),\n",
       " (47, 0.016691345349158802),\n",
       " (325, 0.01628237947095715),\n",
       " (243, 0.014373052579774247),\n",
       " (215, 0.013169360497468426),\n",
       " (303, 0.012283564058043121),\n",
       " (87, 0.010713647845129768),\n",
       " (163, 0.010625715826252363),\n",
       " (194, 0.010437116573125238),\n",
       " (42, 0.010436283628632682),\n",
       " (23, 0.009625321787051656),\n",
       " (298, 0.00958357881425844),\n",
       " (78, 0.009160391330317805),\n",
       " (29, 0.009068452905793237),\n",
       " (146, 0.00887818434839427),\n",
       " (259, 0.008679543953064575),\n",
       " (244, 0.008512362410476135),\n",
       " (91, 0.008453244975119588),\n",
       " (268, 0.008136289222459703),\n",
       " (45, 0.008056456486067919),\n",
       " (279, 0.007950422794175006),\n",
       " (202, 0.007841992305165187),\n",
       " (157, 0.007804968474219449),\n",
       " (174, 0.007746121205703484),\n",
       " (84, 0.007463148846318775),\n",
       " (139, 0.007186455590000385),\n",
       " (15, 0.007008878861806268)]"
      ]
     },
     "execution_count": 109,
     "metadata": {},
     "output_type": "execute_result"
    }
   ],
   "source": [
    "[(114, 0.016773333754614105), (47, 0.016691345349158802), (325, 0.016282379470957151), (243, 0.014373052579774247), (215, 0.013169360497468426), (303, 0.012283564058043121), (87, 0.010713647845129768), (163, 0.010625715826252363), (194, 0.010437116573125238), (42, 0.010436283628632682), (23, 0.0096253217870516557), (298, 0.0095835788142584408), (78, 0.0091603913303178047), (29, 0.0090684529057932367), (146, 0.0088781843483942708), (259, 0.0086795439530645748), (244, 0.0085123624104761347), (91, 0.0084532449751195879), (268, 0.0081362892224597031), (45, 0.0080564564860679186), (279, 0.0079504227941750057), (202, 0.0078419923051651873), (157, 0.0078049684742194491), (174, 0.0077461212057034837), (84, 0.0074631488463187748), (139, 0.0071864555900003849), (15, 0.0070088788618062683)]"
   ]
  },
  {
   "cell_type": "code",
   "execution_count": null,
   "metadata": {
    "collapsed": true
   },
   "outputs": [],
   "source": []
  }
 ],
 "metadata": {
  "anaconda-cloud": {},
  "kernelspec": {
   "display_name": "Python [Root]",
   "language": "python",
   "name": "Python [Root]"
  },
  "language_info": {
   "codemirror_mode": {
    "name": "ipython",
    "version": 3
   },
   "file_extension": ".py",
   "mimetype": "text/x-python",
   "name": "python",
   "nbconvert_exporter": "python",
   "pygments_lexer": "ipython3",
   "version": "3.5.2"
  }
 },
 "nbformat": 4,
 "nbformat_minor": 0
}
