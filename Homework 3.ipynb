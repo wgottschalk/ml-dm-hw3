{
 "cells": [
  {
   "cell_type": "markdown",
   "metadata": {},
   "source": [
    "# Homework 3\n",
    "#### Team: Jair Aguirre and William Gottschalk, Friday Section"
   ]
  },
  {
   "cell_type": "code",
   "execution_count": 1,
   "metadata": {
    "collapsed": false
   },
   "outputs": [],
   "source": [
    "import pandas as pd\n",
    "from collections import Counter\n",
    "from sklearn.preprocessing import Imputer\n",
    "from sklearn.preprocessing import label_binarize\n",
    "from sklearn.svm import SVC\n",
    "from sklearn.model_selection import train_test_split\n",
    "from sklearn.model_selection import GridSearchCV\n",
    "from sklearn.metrics import roc_auc_score\n",
    "from sklearn.multiclass import OneVsRestClassifier\n",
    "from scipy.stats import zscore\n",
    "%matplotlib inline"
   ]
  },
  {
   "cell_type": "code",
   "execution_count": 2,
   "metadata": {
    "collapsed": false
   },
   "outputs": [
    {
     "name": "stdout",
     "output_type": "stream",
     "text": [
      "(17378, 334)\n"
     ]
    }
   ],
   "source": [
    "X = pd.read_table(\"trainingData.txt\", header=None)\n",
    "Y = pd.read_table(\"trainingTruth.txt\", header=None)\n",
    "print(X.shape)\n",
    "\n",
    "Y = label_binarize(Y, classes=[1, 2, 3, 4])"
   ]
  },
  {
   "cell_type": "code",
   "execution_count": 4,
   "metadata": {
    "collapsed": false
   },
   "outputs": [
    {
     "name": "stdout",
     "output_type": "stream",
     "text": [
      "(8689, 334) (8689, 334) (8689, 4) (8689, 4)\n"
     ]
    }
   ],
   "source": [
    "imp = Imputer(missing_values='NaN', strategy='median', axis=0)\n",
    "filled_x = pd.DataFrame(imp.fit_transform(X))\n",
    "std_norm_x = pd.DataFrame(zscore(filled_x))\n",
    "\n",
    "\n",
    "X_train, X_test, y_train, y_test = train_test_split(\n",
    "    std_norm_x.values, Y, test_size=0.5, random_state=1\n",
    ")\n",
    "print(X_train.shape, X_test.shape, y_train.shape, y_test.shape)\n"
   ]
  },
  {
   "cell_type": "code",
   "execution_count": 5,
   "metadata": {
    "collapsed": false
   },
   "outputs": [
    {
     "name": "stdout",
     "output_type": "stream",
     "text": [
      "training time (s):  850.8180170059204\n"
     ]
    }
   ],
   "source": [
    "import time\n",
    "start = time.time()\n",
    "\n",
    "tuned_parameters = [\n",
    "    {\n",
    "        'estimator__kernel': ['rbf'],\n",
    "        'estimator__gamma': [1e-2],\n",
    "        'estimator__C': [1, 10, 20]\n",
    "    }\n",
    "]\n",
    "\n",
    "clf_SVM = OneVsRestClassifier(SVC(), n_jobs=-1)\n",
    "clf = GridSearchCV(clf_SVM, tuned_parameters, scoring='roc_auc')\n",
    "\n",
    "clf.fit(X_train, y_train)\n",
    "\n",
    "end = time.time()\n",
    "print(\"training time (s): \", end - start)"
   ]
  },
  {
   "cell_type": "code",
   "execution_count": 6,
   "metadata": {
    "collapsed": false
   },
   "outputs": [
    {
     "name": "stdout",
     "output_type": "stream",
     "text": [
      "The best parameters are {'estimator__kernel': 'rbf', 'estimator__gamma': 0.01, 'estimator__C': 10} with a score of 0.90\n"
     ]
    },
    {
     "data": {
      "text/html": [
       "<div>\n",
       "<table border=\"1\" class=\"dataframe\">\n",
       "  <thead>\n",
       "    <tr style=\"text-align: right;\">\n",
       "      <th></th>\n",
       "      <th>mean_fit_time</th>\n",
       "      <th>mean_score_time</th>\n",
       "      <th>mean_test_score</th>\n",
       "      <th>mean_train_score</th>\n",
       "      <th>param_estimator__C</th>\n",
       "      <th>param_estimator__gamma</th>\n",
       "      <th>param_estimator__kernel</th>\n",
       "      <th>params</th>\n",
       "      <th>rank_test_score</th>\n",
       "      <th>split0_test_score</th>\n",
       "      <th>split0_train_score</th>\n",
       "      <th>split1_test_score</th>\n",
       "      <th>split1_train_score</th>\n",
       "      <th>split2_test_score</th>\n",
       "      <th>split2_train_score</th>\n",
       "      <th>std_fit_time</th>\n",
       "      <th>std_score_time</th>\n",
       "      <th>std_test_score</th>\n",
       "      <th>std_train_score</th>\n",
       "    </tr>\n",
       "  </thead>\n",
       "  <tbody>\n",
       "    <tr>\n",
       "      <th>1</th>\n",
       "      <td>17.249081</td>\n",
       "      <td>22.409633</td>\n",
       "      <td>0.901327</td>\n",
       "      <td>1.0</td>\n",
       "      <td>10</td>\n",
       "      <td>0.01</td>\n",
       "      <td>rbf</td>\n",
       "      <td>{'estimator__kernel': 'rbf', 'estimator__gamma...</td>\n",
       "      <td>1</td>\n",
       "      <td>0.897703</td>\n",
       "      <td>1.0</td>\n",
       "      <td>0.906251</td>\n",
       "      <td>1.0</td>\n",
       "      <td>0.900030</td>\n",
       "      <td>1.0</td>\n",
       "      <td>0.525846</td>\n",
       "      <td>0.318803</td>\n",
       "      <td>0.003608</td>\n",
       "      <td>0.0</td>\n",
       "    </tr>\n",
       "    <tr>\n",
       "      <th>2</th>\n",
       "      <td>17.034907</td>\n",
       "      <td>22.336555</td>\n",
       "      <td>0.901327</td>\n",
       "      <td>1.0</td>\n",
       "      <td>20</td>\n",
       "      <td>0.01</td>\n",
       "      <td>rbf</td>\n",
       "      <td>{'estimator__kernel': 'rbf', 'estimator__gamma...</td>\n",
       "      <td>1</td>\n",
       "      <td>0.897703</td>\n",
       "      <td>1.0</td>\n",
       "      <td>0.906251</td>\n",
       "      <td>1.0</td>\n",
       "      <td>0.900030</td>\n",
       "      <td>1.0</td>\n",
       "      <td>0.385765</td>\n",
       "      <td>0.137554</td>\n",
       "      <td>0.003608</td>\n",
       "      <td>0.0</td>\n",
       "    </tr>\n",
       "    <tr>\n",
       "      <th>0</th>\n",
       "      <td>16.237610</td>\n",
       "      <td>21.789157</td>\n",
       "      <td>0.900206</td>\n",
       "      <td>1.0</td>\n",
       "      <td>1</td>\n",
       "      <td>0.01</td>\n",
       "      <td>rbf</td>\n",
       "      <td>{'estimator__kernel': 'rbf', 'estimator__gamma...</td>\n",
       "      <td>3</td>\n",
       "      <td>0.896773</td>\n",
       "      <td>1.0</td>\n",
       "      <td>0.905183</td>\n",
       "      <td>1.0</td>\n",
       "      <td>0.898664</td>\n",
       "      <td>1.0</td>\n",
       "      <td>0.723448</td>\n",
       "      <td>0.309022</td>\n",
       "      <td>0.003603</td>\n",
       "      <td>0.0</td>\n",
       "    </tr>\n",
       "  </tbody>\n",
       "</table>\n",
       "</div>"
      ],
      "text/plain": [
       "   mean_fit_time  mean_score_time  mean_test_score  mean_train_score  \\\n",
       "1      17.249081        22.409633         0.901327               1.0   \n",
       "2      17.034907        22.336555         0.901327               1.0   \n",
       "0      16.237610        21.789157         0.900206               1.0   \n",
       "\n",
       "  param_estimator__C param_estimator__gamma param_estimator__kernel  \\\n",
       "1                 10                   0.01                     rbf   \n",
       "2                 20                   0.01                     rbf   \n",
       "0                  1                   0.01                     rbf   \n",
       "\n",
       "                                              params  rank_test_score  \\\n",
       "1  {'estimator__kernel': 'rbf', 'estimator__gamma...                1   \n",
       "2  {'estimator__kernel': 'rbf', 'estimator__gamma...                1   \n",
       "0  {'estimator__kernel': 'rbf', 'estimator__gamma...                3   \n",
       "\n",
       "   split0_test_score  split0_train_score  split1_test_score  \\\n",
       "1           0.897703                 1.0           0.906251   \n",
       "2           0.897703                 1.0           0.906251   \n",
       "0           0.896773                 1.0           0.905183   \n",
       "\n",
       "   split1_train_score  split2_test_score  split2_train_score  std_fit_time  \\\n",
       "1                 1.0           0.900030                 1.0      0.525846   \n",
       "2                 1.0           0.900030                 1.0      0.385765   \n",
       "0                 1.0           0.898664                 1.0      0.723448   \n",
       "\n",
       "   std_score_time  std_test_score  std_train_score  \n",
       "1        0.318803        0.003608              0.0  \n",
       "2        0.137554        0.003608              0.0  \n",
       "0        0.309022        0.003603              0.0  "
      ]
     },
     "execution_count": 6,
     "metadata": {},
     "output_type": "execute_result"
    }
   ],
   "source": [
    " print(\"The best parameters are %s with a score of %0.2f\"\n",
    "      % (clf.best_params_, clf.best_score_))\n",
    "pd.DataFrame(clf.cv_results_).sort_values(\"rank_test_score\", axis=0)"
   ]
  },
  {
   "cell_type": "code",
   "execution_count": 7,
   "metadata": {
    "collapsed": false
   },
   "outputs": [
    {
     "name": "stdout",
     "output_type": "stream",
     "text": [
      "done fitting...\n",
      "done predicting...\n",
      "roc auc score is:  0.644653743497\n"
     ]
    }
   ],
   "source": [
    "model = OneVsRestClassifier(SVC(gamma=0.01, C=10))\n",
    "model.fit(X_train, y_train)\n",
    "\n",
    "print('done fitting...')\n",
    "\n",
    "y_predict = model.predict(X_test)\n",
    "\n",
    "print('done predicting...')\n",
    "\n",
    "report = roc_auc_score(y_test, y_predict)\n",
    "print(\"roc auc score is: \", report)"
   ]
  },
  {
   "cell_type": "code",
   "execution_count": 20,
   "metadata": {
    "collapsed": false
   },
   "outputs": [
    {
     "name": "stdout",
     "output_type": "stream",
     "text": [
      "             precision    recall  f1-score   support\n",
      "\n",
      "          1       0.83      0.92      0.87      3425\n",
      "          2       0.66      0.69      0.67      2315\n",
      "          3       0.78      0.93      0.84      3130\n",
      "          4       0.57      0.16      0.25      1557\n",
      "\n",
      "avg / total       0.74      0.76      0.73     10427\n",
      "\n"
     ]
    }
   ],
   "source": [
    "# original report of running a basic SVM with no param tuning\n",
    "print(report)"
   ]
  },
  {
   "cell_type": "code",
   "execution_count": null,
   "metadata": {
    "collapsed": true
   },
   "outputs": [],
   "source": []
  }
 ],
 "metadata": {
  "anaconda-cloud": {},
  "kernelspec": {
   "display_name": "Python [Root]",
   "language": "python",
   "name": "Python [Root]"
  },
  "language_info": {
   "codemirror_mode": {
    "name": "ipython",
    "version": 3
   },
   "file_extension": ".py",
   "mimetype": "text/x-python",
   "name": "python",
   "nbconvert_exporter": "python",
   "pygments_lexer": "ipython3",
   "version": "3.5.2"
  }
 },
 "nbformat": 4,
 "nbformat_minor": 0
}
